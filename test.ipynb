{
 "cells": [
  {
   "cell_type": "code",
   "execution_count": 3,
   "metadata": {},
   "outputs": [
    {
     "ename": "IndentationError",
     "evalue": "expected an indented block after 'if' statement on line 40 (3570300387.py, line 41)",
     "output_type": "error",
     "traceback": [
      "\u001b[0;36m  Cell \u001b[0;32mIn[3], line 41\u001b[0;36m\u001b[0m\n\u001b[0;31m    return prev_count, node\u001b[0m\n\u001b[0m    ^\u001b[0m\n\u001b[0;31mIndentationError\u001b[0m\u001b[0;31m:\u001b[0m expected an indented block after 'if' statement on line 40\n"
     ]
    }
   ],
   "source": [
    "import time\n",
    "from sqlalchemy.orm import Session\n",
    "from typing import List\n",
    "from datetime import datetime, timedelta\n",
    "\n",
    "from app import models, crud, schemas\n",
    "from app.database import SessionLocal, engine\n",
    "import pandas as pd\n",
    "\n",
    "# Initialize the database\n",
    "models.Base.metadata.create_all(bind=engine)\n",
    "\n",
    "def get_db():\n",
    "    db = SessionLocal()\n",
    "    try:\n",
    "        yield db\n",
    "    finally:\n",
    "        db.close()\n",
    "\n",
    "def fetch_and_print_latest_data():\n",
    "    with next(get_db()) as db:\n",
    "        curr_time = datetime.now()\n",
    "        market_data = crud.get_market_data_by_symbol_time(db, symbol='MES 06-24', start_time= curr_time - timedelta(minutes=1), end_time=curr_time)\n",
    "        data = [result.__dict__ for result in market_data]\n",
    "    \n",
    "    # Remove the SQLAlchemy instance state from each dictionary\n",
    "    for item in data:\n",
    "        item.pop('_sa_instance_state', None)\n",
    "    \n",
    "    # Convert to a DataFrame\n",
    "    df = pd.DataFrame(data)\n",
    "    print(df.head())\n",
    "    \n",
    "prev_count = 0\n",
    "node = 0\n",
    "def footprint_count(prev_count, node):\n",
    "    detect = False\n",
    "    if detect: prev_count+=1\n",
    "    else: prev_count = 0\n",
    "    if prev_count==3: \n",
    "        sent_alerts('msg')\n",
    "    return prev_count, node\n",
    "\n",
    "def main():\n",
    "    while True:\n",
    "        fetch_and_print_latest_data()\n",
    "        prev_count, node = footprint_count(prev_count, node)\n",
    "        time.sleep(60)\n",
    "        \n",
    "\n",
    "if __name__ == \"__main__\":\n",
    "    main()\n"
   ]
  },
  {
   "cell_type": "code",
   "execution_count": null,
   "metadata": {},
   "outputs": [],
   "source": []
  }
 ],
 "metadata": {
  "kernelspec": {
   "display_name": "base",
   "language": "python",
   "name": "python3"
  },
  "language_info": {
   "codemirror_mode": {
    "name": "ipython",
    "version": 3
   },
   "file_extension": ".py",
   "mimetype": "text/x-python",
   "name": "python",
   "nbconvert_exporter": "python",
   "pygments_lexer": "ipython3",
   "version": "3.11.5"
  }
 },
 "nbformat": 4,
 "nbformat_minor": 2
}
